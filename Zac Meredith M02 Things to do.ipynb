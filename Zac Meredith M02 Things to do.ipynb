{
 "cells": [
  {
   "cell_type": "markdown",
   "id": "ebd962b3",
   "metadata": {},
   "source": [
    "4.1"
   ]
  },
  {
   "cell_type": "code",
   "execution_count": null,
   "id": "07f36736",
   "metadata": {},
   "outputs": [
    {
     "name": "stdout",
     "output_type": "stream",
     "text": [
      "Guess a number between 1 and 10\n"
     ]
    }
   ],
   "source": [
    "import random\n",
    "num = random.randint(1, 10)\n",
    "while True:\n",
    "    print('Guess a number between 1 and 10')\n",
    "    guess = input()\n",
    "    i = int(guess)\n",
    "    if i == num:\n",
    "        print('You won!!!')\n",
    "        break\n",
    "    elif i < num:\n",
    "               print('Try Higher')\n",
    "    elif i > num:\n",
    "               print('Try Lower')"
   ]
  },
  {
   "cell_type": "markdown",
   "id": "34ee04a2",
   "metadata": {},
   "source": [
    "6.1"
   ]
  },
  {
   "cell_type": "code",
   "execution_count": null,
   "id": "6501fff6",
   "metadata": {},
   "outputs": [],
   "source": [
    "for i in [3, 2, 1, 0]:\n",
    "    print(i, end=\", \")"
   ]
  },
  {
   "cell_type": "markdown",
   "id": "36f3f22a",
   "metadata": {},
   "source": [
    "6.2"
   ]
  },
  {
   "cell_type": "code",
   "execution_count": null,
   "id": "fc485e1b",
   "metadata": {},
   "outputs": [],
   "source": [
    "userGuess = -1\n",
    "Guess_Me = 7\n",
    " \n",
    "while(userGuess != Guess_Me):\n",
    "     \n",
    " \n",
    "        userGuess = int(input(\"Guess a number between 1 and 10: \"))\n",
    "\n",
    " \n",
    "        if (userGuess < Guess_Me):\n",
    "            print(\"You guessed \" + str(userGuess) + \". Too low.\")\n",
    " \n",
    "        if (userGuess > Guess_Me):\n",
    "            print(\"You guessed \" + str(userGuess) + \". Too high.\") \n",
    "\n",
    "        if (userGuess == Guess_Me):\n",
    "             print(\"You found it\") "
   ]
  },
  {
   "cell_type": "markdown",
   "id": "8dadb611",
   "metadata": {},
   "source": [
    "6.3"
   ]
  },
  {
   "cell_type": "code",
   "execution_count": null,
   "id": "7b81e9aa",
   "metadata": {},
   "outputs": [],
   "source": [
    "guess_me = 5\n",
    "\n",
    "for number in range(1,10):\n",
    "\n",
    "    if number < guess_me:\n",
    "        print(\"too low\")\n",
    "        number += 1\n",
    "\n",
    "    elif number == guess_me:\n",
    "        print(\"found it!\")\n",
    "        break\n",
    "\n",
    "    else:\n",
    "        print(\"oops\")\n",
    "        exit"
   ]
  },
  {
   "cell_type": "code",
   "execution_count": null,
   "id": "fc313eb4",
   "metadata": {},
   "outputs": [],
   "source": []
  }
 ],
 "metadata": {
  "kernelspec": {
   "display_name": "Python 3 (ipykernel)",
   "language": "python",
   "name": "python3"
  },
  "language_info": {
   "codemirror_mode": {
    "name": "ipython",
    "version": 3
   },
   "file_extension": ".py",
   "mimetype": "text/x-python",
   "name": "python",
   "nbconvert_exporter": "python",
   "pygments_lexer": "ipython3",
   "version": "3.11.5"
  }
 },
 "nbformat": 4,
 "nbformat_minor": 5
}
